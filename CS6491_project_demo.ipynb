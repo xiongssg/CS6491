{
 "cells": [
  {
   "cell_type": "code",
   "execution_count": 1,
   "metadata": {
    "ExecuteTime": {
     "end_time": "2021-04-30T12:02:22.723630Z",
     "start_time": "2021-04-30T12:02:21.840421Z"
    }
   },
   "outputs": [],
   "source": [
    "import random\n",
    "import numpy as np\n",
    "import cvxpy as cp\n",
    "import matplotlib.pyplot as plt"
   ]
  },
  {
   "cell_type": "code",
   "execution_count": 2,
   "metadata": {
    "ExecuteTime": {
     "end_time": "2021-04-30T12:02:23.982460Z",
     "start_time": "2021-04-30T12:02:23.591371Z"
    }
   },
   "outputs": [
    {
     "data": {
      "image/png": "[encoded data removed]",
      "text/plain": [
       "<Figure size 432x288 with 1 Axes>"
      ]
     },
     "metadata": {
      "needs_background": "light"
     },
     "output_type": "display_data"
    }
   ],
   "source": [
    "mu_dist = np.random.normal(10, 2, 100000)\n",
    "nu_dist = np.random.gamma(7, scale = 1, size = 100000)\n",
    "\n",
    "\n",
    "fig = plt.figure()\n",
    "plot = plt.subplot()\n",
    "plt.hist(mu_dist,100,alpha=0.6)\n",
    "plt.title('Gaussian distribution')\n",
    "plt.savefig('Gaussian.png')\n",
    "plt.show()"
   ]
  },
  {
   "cell_type": "code",
   "execution_count": 3,
   "metadata": {
    "ExecuteTime": {
     "end_time": "2021-04-30T12:02:34.022895Z",
     "start_time": "2021-04-30T12:02:33.739822Z"
    },
    "scrolled": true
   },
   "outputs": [
    {
     "data": {
      "image/png": "[encoded data removed]",
      "text/plain": [
       "<Figure size 432x288 with 1 Axes>"
      ]
     },
     "metadata": {
      "needs_background": "light"
     },
     "output_type": "display_data"
    }
   ],
   "source": [
    "fig = plt.figure()\n",
    "plot = plt.subplot()\n",
    "plt.hist(nu_dist,100,alpha=0.6)\n",
    "plt.title('Gamma distribution')\n",
    "plt.savefig('Gamma.png')\n",
    "plt.show()"
   ]
  },
  {
   "cell_type": "code",
   "execution_count": 4,
   "metadata": {
    "ExecuteTime": {
     "end_time": "2021-04-30T12:02:40.703553Z",
     "start_time": "2021-04-30T12:02:40.692541Z"
    }
   },
   "outputs": [],
   "source": [
    "##estimate the probability density function of the distributions\n",
    "n_bins =50\n",
    "\n",
    "hist_mu, edges_mu = np.histogram(mu_dist, bins=n_bins)\n",
    "hist_nu, edges_nu = np.histogram(nu_dist, bins=n_bins)\n",
    "\n",
    "##get weights of each bin\n",
    "hist_mu = hist_mu/100000\n",
    "hist_nu = hist_nu/100000\n",
    "\n",
    "##remove the last bin\n",
    "edges_mu = edges_mu[:-1]\n",
    "edges_nu = edges_nu[:-1]"
   ]
  },
  {
   "cell_type": "markdown",
   "metadata": {},
   "source": [
    "Using CVXPY to solve the Wasserstein distance"
   ]
  },
  {
   "cell_type": "code",
   "execution_count": 5,
   "metadata": {
    "ExecuteTime": {
     "end_time": "2021-04-30T12:02:44.336089Z",
     "start_time": "2021-04-30T12:02:44.229547Z"
    }
   },
   "outputs": [
    {
     "name": "stdout",
     "output_type": "stream",
     "text": [
      "status: optimal\n",
      "optimal value 9.955821215539357\n",
      "optimal var [[1.00000425e-05 3.49549725e-13 2.38919973e-13 ... 0.00000000e+00\n",
      "  0.00000000e+00 4.33259661e-12]\n",
      " [5.00000482e-05 2.63857882e-13 9.20290801e-14 ... 0.00000000e+00\n",
      "  0.00000000e+00 4.26615058e-12]\n",
      " [5.00000454e-05 4.97732051e-13 1.23097523e-13 ... 0.00000000e+00\n",
      "  0.00000000e+00 4.36598288e-12]\n",
      " ...\n",
      " [4.22640642e-12 4.30779072e-12 4.39480778e-12 ... 2.00017194e-05\n",
      "  9.45764576e-12 1.39303137e-11]\n",
      " [7.85524681e-12 7.93865372e-12 8.02769301e-12 ... 2.99985687e-05\n",
      "  9.30980953e-10 6.15378137e-11]\n",
      " [2.44441551e-11 2.45295846e-11 2.46206463e-11 ... 2.08326463e-11\n",
      "  9.99910779e-06 9.99963449e-06]]\n"
     ]
    }
   ],
   "source": [
    "# the distance matrix\n",
    "C = (edges_mu.reshape((n_bins,1)) - edges_nu.reshape((1,n_bins)))**2\n",
    "\n",
    "# Variables.\n",
    "a = cp.Variable((n_bins, n_bins), nonneg=True)\n",
    "\n",
    "# Constraints.\n",
    "constraints = [cp.sum(a, axis = 1) == hist_mu, \n",
    "               cp.sum(a, axis = 0) == hist_nu]\n",
    "\n",
    "#objective.\n",
    "obj = cp.trace(C.T@a)\n",
    "\n",
    "prob = cp.Problem(cp.Minimize(obj), constraints)\n",
    "prob.solve() \n",
    "\n",
    "print(\"status:\", prob.status)\n",
    "print(\"optimal value\", prob.value)\n",
    "print(\"optimal var\", a.value)"
   ]
  },
  {
   "cell_type": "code",
   "execution_count": 18,
   "metadata": {
    "ExecuteTime": {
     "end_time": "2021-04-30T12:14:28.889063Z",
     "start_time": "2021-04-30T12:14:28.876549Z"
    }
   },
   "outputs": [],
   "source": [
    "##increasing bins of histogram\n",
    "n_bins =100\n",
    "\n",
    "hist_mu, edges_mu = np.histogram(mu_dist, bins=n_bins)\n",
    "hist_nu, edges_nu = np.histogram(nu_dist, bins=n_bins)\n",
    "\n",
    "##get weights of each bin\n",
    "hist_mu = hist_mu/100000\n",
    "hist_nu = hist_nu/100000\n",
    "\n",
    "##remove the last bin\n",
    "edges_mu = edges_mu[:-1]\n",
    "edges_nu = edges_nu[:-1]"
   ]
  },
  {
   "cell_type": "code",
   "execution_count": 19,
   "metadata": {
    "ExecuteTime": {
     "end_time": "2021-04-30T12:14:30.821263Z",
     "start_time": "2021-04-30T12:14:30.353666Z"
    }
   },
   "outputs": [
    {
     "name": "stdout",
     "output_type": "stream",
     "text": [
      "status: optimal_inaccurate\n",
      "optimal value 9.756654665359024\n",
      "optimal var [[1.03454341e-05 9.63316255e-10 1.36395817e-10 ... 0.00000000e+00\n",
      "  0.00000000e+00 0.00000000e+00]\n",
      " [4.33712284e-09 3.52388391e-09 3.38595678e-09 ... 0.00000000e+00\n",
      "  0.00000000e+00 0.00000000e+00]\n",
      " [1.91807566e-05 2.11615248e-05 2.54968730e-10 ... 0.00000000e+00\n",
      "  0.00000000e+00 0.00000000e+00]\n",
      " ...\n",
      " [7.17968666e-09 6.45501864e-09 6.42333646e-09 ... 1.06270078e-05\n",
      "  6.36684407e-07 1.06452984e-05]\n",
      " [9.90943573e-08 9.83705532e-08 9.83397348e-08 ... 9.22925012e-08\n",
      "  9.22520201e-08 9.22100166e-08]\n",
      " [9.90510524e-08 9.83281147e-08 9.82981628e-08 ... 9.23347019e-08\n",
      "  9.22951595e-08 9.22540969e-08]]\n"
     ]
    },
    {
     "name": "stderr",
     "output_type": "stream",
     "text": [
      "C:\\ProgramData\\Anaconda3\\lib\\site-packages\\cvxpy\\problems\\problem.py:1267: UserWarning: Solution may be inaccurate. Try another solver, adjusting the solver settings, or solve with verbose=True for more information.\n",
      "  warnings.warn(\n"
     ]
    }
   ],
   "source": [
    "# the distance matrix\n",
    "C = (edges_mu.reshape((n_bins,1)) - edges_nu.reshape((1,n_bins)))**2\n",
    "\n",
    "# Variables.\n",
    "a = cp.Variable((n_bins, n_bins), nonneg=True)\n",
    "\n",
    "# Constraints.\n",
    "constraints = [cp.sum(a, axis = 1) == hist_mu, \n",
    "               cp.sum(a, axis = 0) == hist_nu]\n",
    "\n",
    "#objective.\n",
    "obj = cp.trace(C.T@a)\n",
    "\n",
    "prob = cp.Problem(cp.Minimize(obj), constraints)\n",
    "prob.solve() \n",
    "\n",
    "print(\"status:\", prob.status)\n",
    "print(\"optimal value\", prob.value)\n",
    "print(\"optimal var\", a.value)"
   ]
  },
  {
   "cell_type": "markdown",
   "metadata": {},
   "source": [
    "The CVXPY can not sovle the problem accurately with more bins of histogram."
   ]
  },
  {
   "cell_type": "code",
   "execution_count": 8,
   "metadata": {
    "ExecuteTime": {
     "end_time": "2021-04-30T12:05:19.916434Z",
     "start_time": "2021-04-30T12:05:19.470635Z"
    }
   },
   "outputs": [
    {
     "data": {
      "text/plain": [
       "3.0098644938761963"
      ]
     },
     "execution_count": 8,
     "metadata": {},
     "output_type": "execute_result"
    }
   ],
   "source": [
    "## calculate 1-Wasserstein distance\n",
    "from scipy.stats import wasserstein_distance\n",
    "\n",
    "wasserstein_distance(mu_dist, nu_dist)"
   ]
  },
  {
   "cell_type": "markdown",
   "metadata": {},
   "source": [
    "Using disciplined convex programming to simulate Sinkhorn smoothing"
   ]
  },
  {
   "cell_type": "code",
   "execution_count": 21,
   "metadata": {
    "ExecuteTime": {
     "end_time": "2021-04-30T12:15:07.599786Z",
     "start_time": "2021-04-30T12:15:07.594784Z"
    }
   },
   "outputs": [],
   "source": [
    "maxv = np.vectorize(max)\n",
    "\n",
    "def sinkhorn(C, mu, nu, eps, iter):\n",
    "    mu = mu.reshape((C.shape[0], 1))\n",
    "    nu = nu.reshape((C.shape[1], 1))\n",
    "    K = np.exp(-C/eps)\n",
    "    \n",
    "    # initialization\n",
    "    u = np.ones((C.shape[0], 1))\n",
    "    v = np.ones((C.shape[1], 1))\n",
    "    P = np.diag(u.flatten()) @ K @ np.diag(v.flatten())\n",
    "    \n",
    "    for i in range(0,iter):\n",
    "        u = mu/maxv((K @ v), 1e-300) \n",
    "        v = nu/maxv((K.T @ u), 1e-300)\n",
    "        P = np.diag(u.flatten()) @ K @ np.diag(v.flatten())\n",
    "    \n",
    "    return P, np.trace(C.T @ P)"
   ]
  },
  {
   "cell_type": "code",
   "execution_count": 20,
   "metadata": {
    "ExecuteTime": {
     "end_time": "2021-04-30T12:14:36.263357Z",
     "start_time": "2021-04-30T12:14:36.019285Z"
    }
   },
   "outputs": [
    {
     "name": "stdout",
     "output_type": "stream",
     "text": [
      "[[1.30676263e-006 2.45009734e-006 2.98936191e-006 ... 1.45427054e-208\n",
      "  0.00000000e+000 8.22894817e-215]\n",
      " [0.00000000e+000 0.00000000e+000 0.00000000e+000 ... 0.00000000e+000\n",
      "  0.00000000e+000 0.00000000e+000]\n",
      " [3.75670773e-006 8.17631704e-006 1.15802134e-005 ... 8.00447715e-202\n",
      "  0.00000000e+000 6.10322601e-208]\n",
      " ...\n",
      " [6.02340518e-109 1.56266988e-105 2.63815878e-102 ... 3.21386773e-006\n",
      "  0.00000000e+000 3.48180288e-006]\n",
      " [1.81813806e-112 5.08199064e-109 9.24377552e-106 ... 1.34230531e-006\n",
      "  0.00000000e+000 1.68807280e-006]\n",
      " [1.55262637e-115 4.67579865e-112 9.16332671e-109 ... 1.58609771e-006\n",
      "  0.00000000e+000 2.31543973e-006]]\n",
      "10.23390044376834\n"
     ]
    }
   ],
   "source": [
    "P, W = sinkhorn(C, hist_mu, hist_nu, eps = 1, iter = 1000)\n",
    "print(P)\n",
    "print(W)"
   ]
  },
  {
   "cell_type": "code",
   "execution_count": 14,
   "metadata": {
    "ExecuteTime": {
     "end_time": "2021-04-30T12:07:38.049494Z",
     "start_time": "2021-04-30T12:07:37.807419Z"
    }
   },
   "outputs": [
    {
     "name": "stdout",
     "output_type": "stream",
     "text": [
      "[[2.67521459e-006 3.76703500e-006 2.68843514e-006 ... 0.00000000e+000\n",
      "  0.00000000e+000 0.00000000e+000]\n",
      " [0.00000000e+000 0.00000000e+000 0.00000000e+000 ... 0.00000000e+000\n",
      "  0.00000000e+000 0.00000000e+000]\n",
      " [7.16447063e-006 1.35941639e-005 1.30731357e-005 ... 0.00000000e+000\n",
      "  0.00000000e+000 0.00000000e+000]\n",
      " ...\n",
      " [1.64728679e-211 4.44106683e-205 6.06826135e-199 ... 3.97696828e-006\n",
      "  0.00000000e+000 3.55594263e-006]\n",
      " [3.88404638e-218 1.21553139e-211 1.92799911e-205 ... 1.79533037e-006\n",
      "  0.00000000e+000 2.16308885e-006]\n",
      " [2.40386500e-224 8.73284051e-218 1.60790305e-211 ... 2.12738996e-006\n",
      "  0.00000000e+000 3.45385776e-006]]\n",
      "9.993794187241958\n"
     ]
    }
   ],
   "source": [
    "\n",
    "P, W = sinkhorn(C, hist_mu, hist_nu, eps = 0.5, iter = 1000)\n",
    "print(P)\n",
    "print(W)"
   ]
  },
  {
   "cell_type": "code",
   "execution_count": 15,
   "metadata": {
    "ExecuteTime": {
     "end_time": "2021-04-30T12:07:46.921099Z",
     "start_time": "2021-04-30T12:07:46.676043Z"
    }
   },
   "outputs": [
    {
     "name": "stdout",
     "output_type": "stream",
     "text": [
      "[[0.00000000e+00 0.00000000e+00 9.88068699e-20 ... 0.00000000e+00\n",
      "  0.00000000e+00 0.00000000e+00]\n",
      " [0.00000000e+00 0.00000000e+00 0.00000000e+00 ... 0.00000000e+00\n",
      "  0.00000000e+00 0.00000000e+00]\n",
      " [0.00000000e+00 0.00000000e+00 0.00000000e+00 ... 0.00000000e+00\n",
      "  0.00000000e+00 0.00000000e+00]\n",
      " ...\n",
      " [0.00000000e+00 0.00000000e+00 0.00000000e+00 ... 0.00000000e+00\n",
      "  0.00000000e+00 0.00000000e+00]\n",
      " [0.00000000e+00 0.00000000e+00 0.00000000e+00 ... 0.00000000e+00\n",
      "  0.00000000e+00 0.00000000e+00]\n",
      " [0.00000000e+00 0.00000000e+00 0.00000000e+00 ... 0.00000000e+00\n",
      "  0.00000000e+00 0.00000000e+00]]\n",
      "1.3562661648866703\n"
     ]
    }
   ],
   "source": [
    "P, W = sinkhorn(C, hist_mu, hist_nu, eps = 0.01, iter = 1000)\n",
    "print(P)\n",
    "print(W)"
   ]
  },
  {
   "cell_type": "markdown",
   "metadata": {},
   "source": [
    "The smaller the epsilon, the more accurate the approximation, but the smaller epsilon will cause the numerical instability of Sinkhorn's algorithm."
   ]
  },
  {
   "cell_type": "code",
   "execution_count": 17,
   "metadata": {
    "ExecuteTime": {
     "end_time": "2021-04-30T12:10:37.240165Z",
     "start_time": "2021-04-30T12:09:41.145533Z"
    }
   },
   "outputs": [
    {
     "name": "stdout",
     "output_type": "stream",
     "text": [
      "[[6.47090911e-007 0.00000000e+000 0.00000000e+000 ... 0.00000000e+000\n",
      "  0.00000000e+000 1.32844092e-217]\n",
      " [0.00000000e+000 0.00000000e+000 0.00000000e+000 ... 0.00000000e+000\n",
      "  0.00000000e+000 0.00000000e+000]\n",
      " [0.00000000e+000 0.00000000e+000 0.00000000e+000 ... 0.00000000e+000\n",
      "  0.00000000e+000 0.00000000e+000]\n",
      " ...\n",
      " [0.00000000e+000 0.00000000e+000 0.00000000e+000 ... 0.00000000e+000\n",
      "  0.00000000e+000 0.00000000e+000]\n",
      " [0.00000000e+000 0.00000000e+000 0.00000000e+000 ... 0.00000000e+000\n",
      "  0.00000000e+000 0.00000000e+000]\n",
      " [8.78623329e-119 0.00000000e+000 0.00000000e+000 ... 0.00000000e+000\n",
      "  0.00000000e+000 2.67468012e-006]]\n",
      "10.071143791031114\n"
     ]
    }
   ],
   "source": [
    "n_bins =1000\n",
    "\n",
    "hist_mu, edges_mu = np.histogram(mu_dist, bins=n_bins)\n",
    "hist_nu, edges_nu = np.histogram(nu_dist, bins=n_bins)\n",
    "edges_mu = edges_mu[:-1]\n",
    "edges_nu = edges_nu[:-1]\n",
    "C = (edges_mu.reshape((n_bins,1)) - edges_nu.reshape((1,n_bins)))**2\n",
    "\n",
    "##get weights of each bin\n",
    "hist_mu = hist_mu/100000\n",
    "hist_nu = hist_nu/100000\n",
    "\n",
    "P, W = sinkhorn(C, hist_mu, hist_nu, eps = 1, iter = 1000)\n",
    "print(P)\n",
    "print(W)"
   ]
  },
  {
   "cell_type": "markdown",
   "metadata": {},
   "source": [
    "Even increasing bins to 1000, Sinkhorn can also solve the problem quickly, whereas the above CVXPY will get a OOM error."
   ]
  }
 ],
 "metadata": {
  "kernelspec": {
   "display_name": "Python 3",
   "language": "python",
   "name": "python3"
  },
  "language_info": {
   "codemirror_mode": {
    "name": "ipython",
    "version": 3
   },
   "file_extension": ".py",
   "mimetype": "text/x-python",
   "name": "python",
   "nbconvert_exporter": "python",
   "pygments_lexer": "ipython3",
   "version": "3.8.5"
  },
  "toc": {
   "base_numbering": 1,
   "nav_menu": {},
   "number_sections": true,
   "sideBar": true,
   "skip_h1_title": false,
   "title_cell": "Table of Contents",
   "title_sidebar": "Contents",
   "toc_cell": false,
   "toc_position": {},
   "toc_section_display": true,
   "toc_window_display": false
  },
  "varInspector": {
   "cols": {
    "lenName": 16,
    "lenType": 16,
    "lenVar": 40
   },
   "kernels_config": {
    "python": {
     "delete_cmd_postfix": "",
     "delete_cmd_prefix": "del ",
     "library": "var_list.py",
     "varRefreshCmd": "print(var_dic_list())"
    },
    "r": {
     "delete_cmd_postfix": ") ",
     "delete_cmd_prefix": "rm(",
     "library": "var_list.r",
     "varRefreshCmd": "cat(var_dic_list()) "
    }
   },
   "types_to_exclude": [
    "module",
    "function",
    "builtin_function_or_method",
    "instance",
    "_Feature"
   ],
   "window_display": false
  }
 },
 "nbformat": 4,
 "nbformat_minor": 4
}
